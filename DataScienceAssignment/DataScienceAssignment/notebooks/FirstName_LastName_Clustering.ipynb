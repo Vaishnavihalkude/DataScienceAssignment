{
 "cells": [
  {
   "cell_type": "code",
   "execution_count": 6,
   "metadata": {},
   "outputs": [
    {
     "ename": "ModuleNotFoundError",
     "evalue": "No module named 'seaborn'",
     "output_type": "error",
     "traceback": [
      "\u001b[1;31m---------------------------------------------------------------------------\u001b[0m",
      "\u001b[1;31mModuleNotFoundError\u001b[0m                       Traceback (most recent call last)",
      "Cell \u001b[1;32mIn[6], line 8\u001b[0m\n\u001b[0;32m      6\u001b[0m \u001b[38;5;28;01mfrom\u001b[39;00m\u001b[38;5;250m \u001b[39m\u001b[38;5;21;01msklearn\u001b[39;00m\u001b[38;5;21;01m.\u001b[39;00m\u001b[38;5;21;01mmetrics\u001b[39;00m\u001b[38;5;250m \u001b[39m\u001b[38;5;28;01mimport\u001b[39;00m davies_bouldin_score\n\u001b[0;32m      7\u001b[0m \u001b[38;5;28;01mimport\u001b[39;00m\u001b[38;5;250m \u001b[39m\u001b[38;5;21;01mmatplotlib\u001b[39;00m\u001b[38;5;21;01m.\u001b[39;00m\u001b[38;5;21;01mpyplot\u001b[39;00m\u001b[38;5;250m \u001b[39m\u001b[38;5;28;01mas\u001b[39;00m\u001b[38;5;250m \u001b[39m\u001b[38;5;21;01mplt\u001b[39;00m\n\u001b[1;32m----> 8\u001b[0m \u001b[38;5;28;01mimport\u001b[39;00m\u001b[38;5;250m \u001b[39m\u001b[38;5;21;01mseaborn\u001b[39;00m\u001b[38;5;250m \u001b[39m\u001b[38;5;28;01mas\u001b[39;00m\u001b[38;5;250m \u001b[39m\u001b[38;5;21;01msns\u001b[39;00m\n\u001b[0;32m     10\u001b[0m \u001b[38;5;66;03m# Load datasets from data/ directory\u001b[39;00m\n\u001b[0;32m     11\u001b[0m customers_df \u001b[38;5;241m=\u001b[39m pd\u001b[38;5;241m.\u001b[39mread_csv(\u001b[38;5;124m'\u001b[39m\u001b[38;5;124m../data/Customers.csv\u001b[39m\u001b[38;5;124m'\u001b[39m)\n",
      "\u001b[1;31mModuleNotFoundError\u001b[0m: No module named 'seaborn'"
     ]
    }
   ],
   "source": [
    "# FirstName_LastName_Clustering.ipynb\n",
    "\n",
    "# Import necessary libraries\n",
    "import pandas as pd\n",
    "from sklearn.cluster import KMeans\n",
    "from sklearn.metrics import davies_bouldin_score\n",
    "import matplotlib.pyplot as plt\n",
    "import seaborn as sns\n",
    "\n",
    "# Load datasets from data/ directory\n",
    "customers_df = pd.read_csv('../data/Customers.csv')\n",
    "transactions_df = pd.read_csv('../data/Transactions.csv')\n",
    "\n",
    "# Merge customers and transactions data\n",
    "customer_transactions = pd.merge(transactions_df, customers_df, on='CustomerID')\n",
    "\n",
    "# Aggregate transaction data for each customer\n",
    "customer_summary = customer_transactions.groupby('CustomerID').agg({\n",
    "    'TotalValue': 'sum',\n",
    "    'Quantity': 'sum',\n",
    "    'TransactionID': 'count'  # number of transactions\n",
    "}).reset_index()\n",
    "\n",
    "# Merge with customer data\n",
    "customer_profile = pd.merge(customers_df, customer_summary, on='CustomerID')\n",
    "\n",
    "# Prepare data for clustering\n",
    "X = customer_profile[['TotalValue', 'Quantity']]\n",
    "\n",
    "# Perform KMeans clustering\n",
    "kmeans = KMeans(n_clusters=4, random_state=42)\n",
    "customer_profile['Cluster'] = kmeans.fit_predict(X)\n",
    "\n",
    "# Calculate Davies-Bouldin Index (lower is better)\n",
    "db_index = davies_bouldin_score(X, customer_profile['Cluster'])\n",
    "print(f'Davies-Bouldin Index: {db_index}')\n",
    "\n",
    "# Save clustering results to a CSV or PDF report in the reports/ directory\n",
    "customer_profile.to_csv('../reports/FirstName_LastName_Clustering.csv', index=False)\n",
    "\n",
    "# Visualize clusters\n",
    "plt.figure(figsize=(8,6))\n",
    "sns.scatterplot(data=customer_profile, x='TotalValue', y='Quantity', hue='Cluster', palette='Set1')\n",
    "plt.title('Customer Segmentation')\n",
    "plt.savefig('../reports/Customer_Segmentation_Clusters.png')\n",
    "plt.show()\n"
   ]
  },
  {
   "cell_type": "code",
   "execution_count": null,
   "metadata": {},
   "outputs": [],
   "source": []
  }
 ],
 "metadata": {
  "kernelspec": {
   "display_name": ".venv",
   "language": "python",
   "name": "python3"
  },
  "language_info": {
   "codemirror_mode": {
    "name": "ipython",
    "version": 3
   },
   "file_extension": ".py",
   "mimetype": "text/x-python",
   "name": "python",
   "nbconvert_exporter": "python",
   "pygments_lexer": "ipython3",
   "version": "3.12.6"
  }
 },
 "nbformat": 4,
 "nbformat_minor": 2
}
