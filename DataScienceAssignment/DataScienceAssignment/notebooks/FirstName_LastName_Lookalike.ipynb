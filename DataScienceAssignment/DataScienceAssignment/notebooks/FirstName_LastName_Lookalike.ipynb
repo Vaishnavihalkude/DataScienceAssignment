{
 "cells": [
  {
   "cell_type": "code",
   "execution_count": 1,
   "metadata": {},
   "outputs": [
    {
     "name": "stdout",
     "output_type": "stream",
     "text": [
      "  CustomerID                                         Lookalikes\n",
      "0      C0001  [(C0001, 1.0), (C0085, 0.9999990504724361), (C...\n",
      "1      C0002  [(C0002, 1.0), (C0157, 0.9999942410168485), (C...\n",
      "2      C0003  [(C0003, 0.9999999999999999), (C0111, 0.994008...\n",
      "3      C0004  [(C0004, 1.0), (C0162, 0.9999999965087093), (C...\n",
      "4      C0005  [(C0005, 0.9999999999999999), (C0080, 0.999982...\n"
     ]
    }
   ],
   "source": [
    "# FirstName_LastName_Lookalike.ipynb\n",
    "\n",
    "# Import necessary libraries\n",
    "import pandas as pd\n",
    "from sklearn.preprocessing import StandardScaler\n",
    "from sklearn.neighbors import NearestNeighbors\n",
    "\n",
    "# Load datasets from data/ directory\n",
    "customers_df = pd.read_csv('../data/Customers.csv')\n",
    "transactions_df = pd.read_csv('../data/Transactions.csv')\n",
    "\n",
    "# Merge customers and transactions data\n",
    "customer_transactions = pd.merge(transactions_df, customers_df, on='CustomerID')\n",
    "\n",
    "# Aggregate transaction data for each customer\n",
    "customer_summary = customer_transactions.groupby('CustomerID').agg({\n",
    "    'TotalValue': 'sum',\n",
    "    'Quantity': 'sum',\n",
    "    'TransactionID': 'count'  # number of transactions\n",
    "}).reset_index()\n",
    "\n",
    "# Merge with customer data\n",
    "customer_profile = pd.merge(customers_df, customer_summary, on='CustomerID')\n",
    "\n",
    "# Normalize the data\n",
    "scaler = StandardScaler()\n",
    "X = scaler.fit_transform(customer_profile[['TotalValue', 'Quantity']])\n",
    "\n",
    "# Implement KNN for lookalike model\n",
    "knn = NearestNeighbors(n_neighbors=3, metric='cosine')\n",
    "knn.fit(X)\n",
    "\n",
    "# Get lookalike for first 20 customers\n",
    "distances, indices = knn.kneighbors(X[:20])\n",
    "\n",
    "# Create Lookalike.csv and save it in the reports/ directory\n",
    "lookalike_dict = {}\n",
    "for i, customer_id in enumerate(customer_profile['CustomerID'][:20]):\n",
    "    lookalike_dict[customer_id] = [(customer_profile['CustomerID'][j], 1 - distances[i][k]) for k, j in enumerate(indices[i])]\n",
    "\n",
    "lookalike_df = pd.DataFrame(lookalike_dict.items(), columns=['CustomerID', 'Lookalikes'])\n",
    "lookalike_df.to_csv('../reports/FirstName_LastName_Lookalike.csv', index=False)\n",
    "\n",
    "print(lookalike_df.head())\n"
   ]
  }
 ],
 "metadata": {
  "kernelspec": {
   "display_name": ".venv",
   "language": "python",
   "name": "python3"
  },
  "language_info": {
   "name": "python",
   "version": "3.12.6"
  }
 },
 "nbformat": 4,
 "nbformat_minor": 2
}
